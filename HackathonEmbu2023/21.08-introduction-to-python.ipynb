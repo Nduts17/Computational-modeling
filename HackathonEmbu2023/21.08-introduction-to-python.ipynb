{
 "cells": [
  {
   "cell_type": "code",
   "execution_count": 1,
   "metadata": {},
   "outputs": [
    {
     "ename": "SyntaxError",
     "evalue": "invalid syntax (Temp/ipykernel_3384/519777439.py, line 3)",
     "output_type": "error",
     "traceback": [
      "\u001b[1;36m  File \u001b[1;32m\"C:\\Users\\user\\AppData\\Local\\Temp/ipykernel_3384/519777439.py\"\u001b[1;36m, line \u001b[1;32m3\u001b[0m\n\u001b[1;33m    Programming in every language at its core is about transforming data.\u001b[0m\n\u001b[1;37m                         ^\u001b[0m\n\u001b[1;31mSyntaxError\u001b[0m\u001b[1;31m:\u001b[0m invalid syntax\n"
     ]
    }
   ],
   "source": [
    "# Python syntax and semantics\n",
    "\n",
    "Programming in every language at its core is about transforming data.  \n",
    "In order to build larger programs we need ways to structure both data and the transformations into larger constructs.  \n",
    "In the course of this tutorial we will learn a small set of ways to do both.  \n"
   ]
  },
  {
   "cell_type": "markdown",
   "metadata": {},
   "source": []
  },
  {
   "cell_type": "markdown",
   "metadata": {},
   "source": [
    "## Jupyter notebook overview\n",
    "\n",
    "* Splits code into cells\n",
    "    * Code cells\n",
    "    * Markdown cells\n",
    "* Command mode (**no blue border around code cell**)\n",
    "    * `Esc` to enter\n",
    "    * `A` to create cell above\n",
    "    * `B` to create cell below\n",
    "    * `D + D` to delete cell\n",
    "    * `M` to change cell type to Markdown\n",
    "    * `Y` to change cell type to Code\n",
    "* Edit mode (**with blue border around code cell**)\n",
    "    * `Enter`\n",
    "    * `Ctrl + Shift + -` Split cell at cursor position\n",
    "* Execute code in a cell\n",
    "    * `Ctrl + Enter` run selected cell\n",
    "    * `Shift + Enter` run selected cell and select below"
   ]
  },
  {
   "cell_type": "markdown",
   "metadata": {},
   "source": [
    "## Getting help and understanding errors\n",
    "\n",
    "Your code will produce errors and you will forget how certain functions work.  \n",
    "That's absolutely fine and nothing to worry about. \n",
    "Since no-one can remember everything, programmers usually build helpers for themselves.  \n",
    "\n",
    "Your first tool for that is a **comment**. You write comments following the `#` character.  \n",
    "\n",
    "```python\n",
    "# Future me: this is why I implemented the function in the following way\n",
    "```\n",
    "\n",
    "The second tool is a documentation string (or `docstring` for short).  \n",
    "You write docstrings in the first line of a function (more on that later).  \n",
    "\n",
    "```python\n",
    "def my_func():\n",
    "    \"\"\"Some very important information\"\"\"\n",
    "    return None\n",
    "```\n",
    "\n",
    "Other people also (hopefully) write `docstrings`.  \n",
    "For any function, you can call the `help` function to get its `docstring`.\n",
    "\n",
    "```python\n",
    "help(print)\n",
    "```\n",
    "\n",
    "If you want to know what methods are available for a given object, thet `dir()` function will tell you that.  \n",
    "Another quick way of checking this is to write `object.` and then use the `<TAB>` key to auto-complete.  \n",
    "\n",
    "```python\n",
    "dir(\"Hello, World\")\n",
    "```\n",
    "\n",
    "You will frequently encounter errors when programming - that perfectly normal, however you should learn to understand what they *mean*.  \n",
    "For example, if you type `\"1\" + 1` you will get something along the lines of  \n",
    "\n",
    "```TypeError: can only concatenate str (not \"int\") to str```.  \n",
    "\n",
    "Don't worry if you don't understand yet what that means, it hopefully will get clear in the next minutes.  \n",
    "Of course, you can always ask us if you don't know how to proceed\n"
   ]
  },
  {
   "cell_type": "code",
   "execution_count": null,
   "metadata": {},
   "outputs": [],
   "source": []
  },
  {
   "cell_type": "code",
   "execution_count": null,
   "metadata": {},
   "outputs": [],
   "source": []
  },
  {
   "cell_type": "code",
   "execution_count": null,
   "metadata": {},
   "outputs": [],
   "source": []
  },
  {
   "cell_type": "markdown",
   "metadata": {},
   "source": [
    "# Basic data types\n",
    "\n",
    "Python has four basic data types: `None`, `bool`, `int` and `float`\n",
    "\n",
    "| Type   | Value(s)                  | \n",
    "| ---    | ---                       | \n",
    "| `None` | `None`                    | \n",
    "|`bool`  |  `True`, `False`          |\n",
    "|`int`   |  ..., -1, 0, 1, ...       |\n",
    "|`float` |  ..., -3.14, 0.0, 2.71, ... |\n",
    "\n",
    "We will go through each of those four types, showing their use case and how they can be transformed.\n"
   ]
  },
  {
   "cell_type": "markdown",
   "metadata": {},
   "source": [
    "## Bool\n",
    "\n",
    "The boolean type `bool` can only hold the values `True` and `False`.  \n",
    "It can be used for simple logic operations.  \n",
    "There are five operators for `bool`.  \n",
    "\n",
    "| Operator | `True` if                            |\n",
    "| -------  | ---------                            |\n",
    "| `and`    | **both** the inputs are `True`       | \n",
    "| `or`     | one or both of the inputs are `True` | \n",
    "| `not`    | the input is `False`                 | \n",
    "| `==`     | both inputs are equal                | \n",
    "| `!=`     | both inputs are unequal              | "
   ]
  },
  {
   "cell_type": "code",
   "execution_count": 7,
   "metadata": {},
   "outputs": [
    {
     "data": {
      "text/plain": [
       "True"
      ]
     },
     "execution_count": 7,
     "metadata": {},
     "output_type": "execute_result"
    }
   ],
   "source": [
    "not False"
   ]
  },
  {
   "cell_type": "code",
   "execution_count": 1,
   "metadata": {},
   "outputs": [
    {
     "name": "stdout",
     "output_type": "stream",
     "text": [
      "False\n",
      "True\n",
      "False\n",
      "True\n",
      "True\n"
     ]
    }
   ],
   "source": [
    "print(True and False)\n",
    "print(True or False)\n",
    "print(not True)\n",
    "print(True == True)\n",
    "print(True != False)"
   ]
  },
  {
   "cell_type": "markdown",
   "metadata": {},
   "source": [
    "### Exercise: logic / truth table\n",
    "\n",
    "Fill out the following truth table for two inputs `p` and `q`\n",
    "\n",
    "| p   | q   | p and q | p or q  | \n",
    "| --- | --- | ---     | ---     |\n",
    "| T   | T   | ?       | ?       |\n",
    "| T   | F   | ?       | ?       |\n",
    "| F   | T   | ?       | ?       |\n",
    "| F   | F   | ?       | ?       |\n"
   ]
  },
  {
   "cell_type": "code",
   "execution_count": null,
   "metadata": {},
   "outputs": [],
   "source": [
    "print(True and True, True or True)\n",
    "print(True and False, True or False)\n",
    "print(False and True, False or True)\n",
    "print(False and False, False or False)"
   ]
  },
  {
   "cell_type": "code",
   "execution_count": null,
   "metadata": {},
   "outputs": [],
   "source": []
  },
  {
   "cell_type": "code",
   "execution_count": null,
   "metadata": {},
   "outputs": [],
   "source": []
  },
  {
   "cell_type": "code",
   "execution_count": null,
   "metadata": {},
   "outputs": [],
   "source": []
  },
  {
   "cell_type": "markdown",
   "metadata": {},
   "source": [
    "## Function definition\n",
    "\n",
    "Before we continue exploring things to do with those data types, let's introduce an important building block for programs: **functions**.  \n",
    "\n",
    "With functions you can save a specific sequence of instructions to be run, so that you don't have to write out the entire sequence every time you want to run it.\n",
    "\n",
    "To create your own custom functions you need to define them before they can be called.  \n",
    "The basic syntax for this is \n",
    "\n",
    "- the keyword `def` followed by a `name` you can choose\n",
    "- the function parameters in parentheses followed by colon (`:`), and a line break\n",
    "- and then the **indented** function body\n",
    "- a **return statement**, indicating where to exit the function while returning a value\n",
    "\n",
    "\n",
    "A function can have zero `()`, one `(a)` or multiple `(a, b, ...)` arguments.  \n",
    "An example (with the **indentation of four spaces being part of the syntax**) below:\n",
    "\n",
    "<img src=\"./img/fn-dev.png\" style=\"width: 400px\">\n",
    "\n",
    "\n",
    "You have to use this syntax exactly. Try around a bit to see what happens, if you change minor things about it"
   ]
  },
  {
   "cell_type": "code",
   "execution_count": null,
   "metadata": {},
   "outputs": [],
   "source": [
    "def add(x, y):\n",
    "    return x + y"
   ]
  },
  {
   "cell_type": "code",
   "execution_count": null,
   "metadata": {},
   "outputs": [],
   "source": [
    "def add(x, y)\n",
    "    return x + y"
   ]
  },
  {
   "cell_type": "code",
   "execution_count": null,
   "metadata": {},
   "outputs": [],
   "source": [
    "def add x, y:\n",
    "    return x + y"
   ]
  },
  {
   "cell_type": "code",
   "execution_count": null,
   "metadata": {},
   "outputs": [],
   "source": [
    "add(x, y):\n",
    "    return x + y"
   ]
  },
  {
   "cell_type": "code",
   "execution_count": null,
   "metadata": {},
   "outputs": [],
   "source": [
    "def add(x, y):\n",
    "return x + y"
   ]
  },
  {
   "cell_type": "markdown",
   "metadata": {},
   "source": [
    "### Function calls\n",
    "\n",
    "To call a function, you use it's name and then supply the arguments in parentheses:\n",
    "\n",
    "```python\n",
    "print(True and False)\n",
    "```\n",
    "\n",
    "Again, you have to be precise about the syntax"
   ]
  },
  {
   "cell_type": "code",
   "execution_count": null,
   "metadata": {},
   "outputs": [],
   "source": [
    "print(True)\n",
    "print(True, False)"
   ]
  },
  {
   "cell_type": "code",
   "execution_count": null,
   "metadata": {},
   "outputs": [],
   "source": [
    "print True"
   ]
  },
  {
   "cell_type": "code",
   "execution_count": null,
   "metadata": {},
   "outputs": [],
   "source": [
    "print(True False)"
   ]
  },
  {
   "cell_type": "code",
   "execution_count": null,
   "metadata": {},
   "outputs": [],
   "source": []
  },
  {
   "cell_type": "markdown",
   "metadata": {},
   "source": [
    "### Exercise: xor\n",
    "\n",
    "`XOR` (exclusive or) is `True` when **only one** of its inputs is `True`, so its closer to how we usually think of what the word `or` means.  \n",
    "For two propositions `p` and `q` the `xor` function can be written as \n",
    "\n",
    "$(p \\land \\neg q) \\lor (\\neg p \\land q)$\n",
    "\n",
    "with $\\land$ meaning `and`, $\\lor$ meaning `or` and $\\neg$ meaning `not`.\n",
    "\n",
    "Write a function `xor(p, q)` that takes two boolean values and returns the exclusive or of them.\n",
    "\n",
    "\n",
    "#### Note on solving the exercises\n",
    "\n",
    "In all following exercises you will be asked to write functions to implement certain behaviour.  \n",
    "In order to help you solve the puzzles on your own, we already supply the name of the functions, while you will have to replace the Ellipses (`...`) with actual code.  \n",
    "\n",
    "```python\n",
    "def xor(p, q):\n",
    "    ...  # replace this\n",
    "```\n",
    "\n",
    "Note that below the function we have already supplied `assert` statements.  \n",
    "\n",
    "\n",
    "```python\n",
    "assert xor(True, True) == False\n",
    "```\n",
    "\n",
    "These asserts will test your function, so you can check if it was implemented correctly and if not, for *which input* the output fails, which you can use as a guide to where the error in your implementation might be.  \n",
    "**Please don't change or remove those `assert` statements**.  \n",
    "\n",
    "\n"
   ]
  },
  {
   "cell_type": "code",
   "execution_count": null,
   "metadata": {},
   "outputs": [],
   "source": [
    "def xor(p, q):\n",
    "    return (p and  not q) or (not p and q)\n",
    "\n",
    "\n",
    "assert xor(True, True) == False\n",
    "assert xor(True, False) == True\n",
    "assert xor(False, True) == True\n",
    "assert xor(False, False) == False\n"
   ]
  },
  {
   "cell_type": "code",
   "execution_count": 14,
   "metadata": {},
   "outputs": [
    {
     "data": {
      "text/plain": [
       "True"
      ]
     },
     "execution_count": 14,
     "metadata": {},
     "output_type": "execute_result"
    }
   ],
   "source": [
    "xor(True,False)"
   ]
  },
  {
   "cell_type": "code",
   "execution_count": 20,
   "metadata": {},
   "outputs": [],
   "source": []
  },
  {
   "cell_type": "code",
   "execution_count": null,
   "metadata": {},
   "outputs": [],
   "source": []
  },
  {
   "cell_type": "markdown",
   "metadata": {},
   "source": [
    "## Conditional control flow\n",
    "\n",
    "The real use case of boolean values becomes apparent when one uses them to control how the program executes.  \n",
    "This can be done with the `if` / `elif` / `else` statements, `elif` being short for `else if`.  \n",
    "Note that the `if` statement can stand completely alone, be optionally followed by an arbitrary amount of `elif` statements and lastly finished with an optional `else` statement.  \n",
    "So in the example below, both the `elif` and `else` block could have been omitted.  \n",
    "Just like with functions, **indentation of four spaces is part of the syntax**.  \n",
    "\n",
    "```python\n",
    "if it_rains():\n",
    "    pack_raincoat()\n",
    "elif it_is_sunny(): \n",
    "    pack_tshirt()\n",
    "else:\n",
    "    pack_jacket()\n",
    "```\n",
    "\n"
   ]
  },
  {
   "cell_type": "markdown",
   "metadata": {},
   "source": [
    "### Exercise: xor with branching\n",
    "\n",
    "Rewrite your `xor` function from above with `if` and `else` statements instead of the `and` or `or` operators."
   ]
  },
  {
   "cell_type": "code",
   "execution_count": 24,
   "metadata": {},
   "outputs": [],
   "source": [
    "def xor_if_else(p, q):\n",
    "    if p==True:\n",
    "        if q==True:\n",
    "            return False\n",
    "        else:\n",
    "            return True\n",
    "    else:\n",
    "        if p==False:\n",
    "            if q==True:\n",
    "                return True\n",
    "            else:\n",
    "                return False\n",
    "\n",
    "\n",
    "assert xor_if_else(True, True) == False\n",
    "assert xor_if_else(True, False) == True\n",
    "assert xor_if_else(False, True) == True\n",
    "assert xor_if_else(False, False) == False"
   ]
  },
  {
   "cell_type": "code",
   "execution_count": null,
   "metadata": {},
   "outputs": [],
   "source": []
  },
  {
   "cell_type": "code",
   "execution_count": null,
   "metadata": {},
   "outputs": [],
   "source": []
  },
  {
   "cell_type": "code",
   "execution_count": null,
   "metadata": {},
   "outputs": [],
   "source": []
  },
  {
   "cell_type": "markdown",
   "metadata": {},
   "source": [
    "## Numbers\n",
    "\n",
    "There are two basic number types in Python: `int` and `float`.  \n",
    "`int` numbers don't have decimal digits, while `float` values do.  \n",
    "The usual arithmetic operations are defined, however they come with some sharp edges one should be aware of.  \n",
    "We will come back to them later on.\n",
    "\n",
    "| Operation            | Operator | \n",
    "| ---                  | ---      |\n",
    "| Addition             | `+`      |\n",
    "| Subtraction          | `-`      |\n",
    "| Multiplication       | `*`      |\n",
    "| Exponentiation       | `**`     |\n",
    "| Float Division       | `/`      |\n",
    "| Int (Floor) Division | `//`     |\n",
    "| Modulus              | `%`      |\n",
    "\n",
    "Just like with booleans we can compare if two numbers are exactly equal\n",
    "\n",
    "| Operator | Meaning       | \n",
    "| ---      | --- |\n",
    "| `==`     | Exactly equal |\n",
    "| `!=`     | Not equal |\n",
    "\n",
    "But we can also check whether one is larger or smaller than the other\n",
    "\n",
    "| Operator | Meaning       | \n",
    "| ---      | --- |\n",
    "| `>`      | Larger |\n",
    "| `>=`     | Larger or equal |\n",
    "| `<`      | Smaller |\n",
    "| `<=`     | Smaller or equal |\n"
   ]
  },
  {
   "cell_type": "markdown",
   "metadata": {},
   "source": [
    "### Exercise: multiple of two numbers\n",
    "\n",
    "Create a function that checks if a number is a multiple of two other numbers `a` and `b`\n",
    "\n",
    "**Hint**: the **modulo operator (%)** returns the remainder of a division\n",
    "\n",
    "| Input | Output |\n",
    "| ----- | ------ |\n",
    "| 4 % 3 | 1      |\n",
    "| 5 % 3 | 2      |\n",
    "| 6 % 3 | 0      |"
   ]
  },
  {
   "cell_type": "code",
   "execution_count": null,
   "metadata": {},
   "outputs": [],
   "source": [
    "def is_multiple_of_both(number, a, b):\n",
    "    ...\n",
    "\n",
    "\n",
    "assert is_multiple_of_both(2, 2, 1)\n",
    "assert is_multiple_of_both(6, 3, 2)\n",
    "assert not is_multiple_of_both(7, 3, 2)"
   ]
  },
  {
   "cell_type": "code",
   "execution_count": null,
   "metadata": {},
   "outputs": [],
   "source": []
  },
  {
   "cell_type": "code",
   "execution_count": null,
   "metadata": {},
   "outputs": [],
   "source": []
  },
  {
   "cell_type": "code",
   "execution_count": null,
   "metadata": {},
   "outputs": [],
   "source": []
  },
  {
   "cell_type": "markdown",
   "metadata": {},
   "source": [
    "## Assignment\n",
    "\n",
    "Before we continue exploring things to do with numbers, let's talk about **assignment statements**.  \n",
    "You can assign a value to a variable using the `name = value` syntax, for example\n",
    "\n",
    "```python\n",
    "x1 = 1\n",
    "```\n",
    "\n",
    "After you assigned a value to a variable, you can use the name to refer to the value\n",
    "\n",
    "```python\n",
    "print(x1)  # This prints \"1\"\n",
    "```\n",
    "\n",
    "Note that the syntax requires your name to start with an character.  \n",
    "\n",
    "```python\n",
    "1x = 1  # this doesn't work!\n",
    "```"
   ]
  },
  {
   "cell_type": "markdown",
   "metadata": {},
   "source": [
    "### Exercise: convert 24 hour clock to 12 hour clock face\n",
    "\n",
    "Write a function that transform a `[0, 24)` hour input to the `[1, 12]` hour range of a clock face.  \n",
    "\n",
    "**Hint**: again use the modulo operator `%`  \n",
    "**Hint**: `0` and `12` are special cases - why?  "
   ]
  },
  {
   "cell_type": "code",
   "execution_count": 10,
   "metadata": {},
   "outputs": [],
   "source": [
    "def clock_face(hour):\n",
    "    rem=hour%12\n",
    "    if rem==0:\n",
    "        return 12\n",
    "    else:\n",
    "        return rem\n",
    "    \n",
    "\n",
    "\n",
    "assert clock_face(1) == clock_face(13) == 1\n",
    "assert clock_face(2) == clock_face(14) == 2\n",
    "assert clock_face(3) == clock_face(15) == 3\n",
    "assert clock_face(4) == clock_face(16) == 4\n",
    "assert clock_face(5) == clock_face(17) == 5\n",
    "assert clock_face(6) == clock_face(18) == 6\n",
    "assert clock_face(7) == clock_face(19) == 7\n",
    "assert clock_face(8) == clock_face(20) == 8\n",
    "assert clock_face(9) == clock_face(21) == 9\n",
    "assert clock_face(10) == clock_face(22) == 10\n",
    "assert clock_face(11) == clock_face(23) == 11\n",
    "assert clock_face(12) == clock_face(0) == 12"
   ]
  },
  {
   "cell_type": "code",
   "execution_count": null,
   "metadata": {},
   "outputs": [],
   "source": []
  },
  {
   "cell_type": "code",
   "execution_count": null,
   "metadata": {},
   "outputs": [],
   "source": []
  },
  {
   "cell_type": "code",
   "execution_count": null,
   "metadata": {},
   "outputs": [],
   "source": []
  },
  {
   "cell_type": "markdown",
   "metadata": {},
   "source": [
    "## None\n",
    "\n",
    "The `None` type is used to signify missing values or failure of computation.  \n",
    "To test whether a value is `None`, you use the `is` operator, which can be negated using the `not` operator.  \n"
   ]
  },
  {
   "cell_type": "code",
   "execution_count": 11,
   "metadata": {},
   "outputs": [
    {
     "name": "stdout",
     "output_type": "stream",
     "text": [
      "True\n",
      "False\n"
     ]
    }
   ],
   "source": [
    "print(None is None)\n",
    "print(None is not None)"
   ]
  },
  {
   "cell_type": "markdown",
   "metadata": {},
   "source": [
    "### Exercise: safe division\n",
    "\n",
    "When you divide a number by `0` the program will crash and throw a `ZeroDivisionError`.  \n",
    "Define a function for a safe divide that instead returns `None` if division by 0 is attempted.  "
   ]
  },
  {
   "cell_type": "code",
   "execution_count": 13,
   "metadata": {},
   "outputs": [],
   "source": [
    "def safe_divide(x, y):\n",
    "    if y==0:\n",
    "        return None\n",
    "    else:\n",
    "        return x/y\n",
    "\n",
    "\n",
    "assert safe_divide(1, 0) is None\n",
    "assert safe_divide(1, 1) is not None\n",
    "assert safe_divide(0, 1) is not None"
   ]
  },
  {
   "cell_type": "markdown",
   "metadata": {},
   "source": [
    "This is especially useful, as you will frequently encounter `TypeError`'s with `NoneType`.  \n",
    "For example, what do you think will happen, when you run the code below?\n",
    "\n",
    "```python\n",
    "safe_divide(1, 0) + 1\n",
    "```\n",
    "\n",
    "Understanding this source of error will help you solve many issues that will pop up with failed computations.  "
   ]
  },
  {
   "cell_type": "code",
   "execution_count": null,
   "metadata": {},
   "outputs": [],
   "source": []
  },
  {
   "cell_type": "code",
   "execution_count": null,
   "metadata": {},
   "outputs": [],
   "source": []
  },
  {
   "cell_type": "code",
   "execution_count": null,
   "metadata": {},
   "outputs": [],
   "source": []
  },
  {
   "cell_type": "markdown",
   "metadata": {},
   "source": [
    "## Objects\n",
    "\n",
    "Python is an object-oriented language, so everything in Python is an object.  \n",
    "But what are objects actually?  \n",
    "At their core, they are a way to bundle **data** with **methods**, which are functions attached to the object.  \n",
    "You can access both the data and the methods using the **dot notation** so \n",
    "\n",
    "- `object.data`  \n",
    "- `object.method()` (don't forget the parentheses `()` here)\n",
    "\n",
    "respectively. \n",
    "I've written a small function that will print out all available data and methods.  \n",
    "Let's check this for a floating point number.  "
   ]
  },
  {
   "cell_type": "code",
   "execution_count": 15,
   "metadata": {},
   "outputs": [
    {
     "name": "stdout",
     "output_type": "stream",
     "text": [
      "data:  ['imag', 'real']\n",
      "methods:  ['as_integer_ratio', 'conjugate', 'fromhex', 'hex', 'is_integer']\n"
     ]
    }
   ],
   "source": [
    "def print_public_contents(obj):\n",
    "    public = [i for i in dir(obj) if not i.startswith(\"_\")]\n",
    "    data = []\n",
    "    methods = []\n",
    "    for i in public:\n",
    "        if callable(getattr(obj, i)):\n",
    "            methods.append(i)\n",
    "        else:\n",
    "            data.append(i)\n",
    "    print(\"data: \", data)\n",
    "    print(\"methods: \", methods)\n",
    "\n",
    "a = 0.5\n",
    "\n",
    "print_public_contents(a)"
   ]
  },
  {
   "cell_type": "code",
   "execution_count": null,
   "metadata": {},
   "outputs": [],
   "source": [
    "a.imag  # data"
   ]
  },
  {
   "cell_type": "code",
   "execution_count": 16,
   "metadata": {},
   "outputs": [
    {
     "data": {
      "text/plain": [
       "(1, 2)"
      ]
     },
     "execution_count": 16,
     "metadata": {},
     "output_type": "execute_result"
    }
   ],
   "source": [
    "a.as_integer_ratio()  # method"
   ]
  },
  {
   "cell_type": "code",
   "execution_count": null,
   "metadata": {},
   "outputs": [],
   "source": []
  },
  {
   "cell_type": "code",
   "execution_count": null,
   "metadata": {},
   "outputs": [],
   "source": []
  },
  {
   "cell_type": "code",
   "execution_count": null,
   "metadata": {},
   "outputs": [],
   "source": []
  },
  {
   "cell_type": "markdown",
   "metadata": {},
   "source": [
    "# Containers\n",
    "\n",
    "Single data points are fine, but a simple calculator would be enough to work with them.  \n",
    "Most of the time we are working with loads of data, so we need ways to pack it together in an easy fashion.  \n",
    "Since different arragements make certain transformations easier, there is a variety of containers for data.  \n",
    "The containers we will be handling are **tuples**, **lists**, **strings** and **dictionaries**.\n",
    "\n",
    "**Tuples** (`(1, 2)`) are used to store small amounts of arbitrary data that isn't supposed to be changed, while **lists** (`[1, 2]`) are used to store **large** amounts of arbitrary data and / or data that is supposed to be changed. **Strings** (`\"Hello, World!\"`) are used to store text and **dictionaries** (`{\"key\": value}`) are used to store mappings between keys and values (e.g. as a real-world dictionary stores a word in one language as a key and the translation into another language as a value).\n"
   ]
  },
  {
   "cell_type": "markdown",
   "metadata": {},
   "source": [
    "### Exercise: container conversion\n",
    "\n",
    "You can convert different containers into each other using their respective constructors\n",
    "\n",
    "- `tuple(obj)`\n",
    "- `list(obj)`\n",
    "- `str(obj)`\n",
    "- `dict(obj)`\n",
    "\n",
    "Write a function that takes an integer number as an input and returns a list containing each digit seperately as a string."
   ]
  },
  {
   "cell_type": "code",
   "execution_count": 20,
   "metadata": {},
   "outputs": [],
   "source": [
    "def digits_of_integer(my_string):\n",
    "    m=str(my_string)\n",
    "    return list(m)\n",
    "\n",
    "assert digits_of_integer(123) == ['1', '2', '3']"
   ]
  },
  {
   "cell_type": "code",
   "execution_count": 21,
   "metadata": {},
   "outputs": [
    {
     "data": {
      "text/plain": [
       "['2', '3', '4']"
      ]
     },
     "execution_count": 21,
     "metadata": {},
     "output_type": "execute_result"
    }
   ],
   "source": [
    "list(str(234))"
   ]
  },
  {
   "cell_type": "code",
   "execution_count": null,
   "metadata": {},
   "outputs": [],
   "source": []
  },
  {
   "cell_type": "code",
   "execution_count": null,
   "metadata": {},
   "outputs": [],
   "source": []
  },
  {
   "cell_type": "markdown",
   "metadata": {},
   "source": [
    "## Tuples\n",
    "\n",
    "Tuples are immutable (meaning you can't change their content after creation) containers to bundle small amounts of data.  \n",
    "They can be created using their literal syntax\n",
    "\n",
    "```python\n",
    "my_tuple = (1, 2)\n",
    "```\n",
    "\n",
    "You might notice the similarity to the way you defined function arguments\n",
    "\n",
    "```python\n",
    "def my_func(x, y):\n",
    "    ...\n",
    "```\n",
    "\n",
    "and called functions\n",
    "\n",
    "```python\n",
    "my_func(1, 2)\n",
    "```\n",
    "\n",
    "That similarity is on purpose!  \n",
    "You can think of every function as just having a single argument (that argument being a tuple) and returning a single value (that argument also being a tuple).  "
   ]
  },
  {
   "cell_type": "markdown",
   "metadata": {},
   "source": [
    "### Exercise: return multiple values"
   ]
  },
  {
   "cell_type": "code",
   "execution_count": 22,
   "metadata": {},
   "outputs": [],
   "source": [
    "def square_two_numbers(x, y):\n",
    "    return (x**2,y**2)\n",
    "\n",
    "assert square_two_numbers(1, 2) == (1, 4)\n",
    "assert square_two_numbers(2, 3) == (4, 9)\n",
    "assert square_two_numbers(3, 4) == (9, 16)"
   ]
  },
  {
   "cell_type": "code",
   "execution_count": null,
   "metadata": {},
   "outputs": [],
   "source": []
  },
  {
   "cell_type": "code",
   "execution_count": null,
   "metadata": {},
   "outputs": [],
   "source": []
  },
  {
   "cell_type": "markdown",
   "metadata": {},
   "source": [
    "## Lists\n",
    "\n",
    "Lists, like tuples, are used to bundle arbitrary data.  \n",
    "However, you can manipulate lists, e.g. change elements, add new ones or remove some.  \n",
    "\n",
    "You can create them using their literal syntax\n",
    "\n",
    "```python\n",
    "my_list = [1, 2, 3]\n",
    "```\n",
    "\n",
    "Depending on the use case, you might want the change the list **in-place**, or create a **new** list.  \n",
    "Below are some operations you can perform on lists that either change the list, or create a new one.  \n",
    "\n",
    "| Operation             | Method (mutating in-place) | Free function (creating a *new* list) |\n",
    "| ---                   | ---                        | ---                                   |\n",
    "| add a single value    | `my_list.append(value)`    | `my_list + [3]`                       |\n",
    "| add multiple values   | `my_list.extend(values)`   | `my_list + [3, 4]`                    |\n",
    "| remove value at idx   | `my_list.pop(idx)`         | `my_list[:idx] + my_list[idx + 1:]`   | \n",
    "| remove specific value | `my_list.remove(value)`    | `idx = l.index(value)`, then ↑        | \n",
    "| sort                  | `my_list.sort`             | `sorted(my_list)`                     |\n",
    "| reverse               | `my_list.reverse`          | `my_list[::-1]`                       |"
   ]
  },
  {
   "cell_type": "markdown",
   "metadata": {},
   "source": [
    "### Exercise: mutate conditionally"
   ]
  },
  {
   "cell_type": "code",
   "execution_count": 23,
   "metadata": {},
   "outputs": [],
   "source": [
    "def append_conditionally_mutate(l, value, inplace):\n",
    "    if inplace==True:\n",
    "        l.append(value)\n",
    "        return l\n",
    "    else:\n",
    "        return l+[value]\n",
    "\n",
    "\n",
    "\n",
    "\n",
    "assert id(l := [1, 2, 3]) == id(append_conditionally_mutate(l, 4, inplace=True))\n",
    "assert id(l := [1, 2, 3]) != id(append_conditionally_mutate(l, 4, inplace=False))"
   ]
  },
  {
   "cell_type": "code",
   "execution_count": 24,
   "metadata": {},
   "outputs": [],
   "source": [
    "def append_conditionally_mutate(l, value, inplace):\n",
    "    if inplace==True:        \n",
    "        return l.append(value)\n",
    "    else:\n",
    "        return l+[value]"
   ]
  },
  {
   "cell_type": "code",
   "execution_count": null,
   "metadata": {},
   "outputs": [],
   "source": []
  },
  {
   "cell_type": "code",
   "execution_count": null,
   "metadata": {},
   "outputs": [],
   "source": []
  },
  {
   "cell_type": "markdown",
   "metadata": {},
   "source": [
    "## Strings\n",
    "\n",
    "Unlike tuples and lists, strings only contain a single data type: text.  \n",
    "\n",
    "Strings are created using their literal syntax either single or double quotation marks.  \n",
    "\n",
    "```python\n",
    "my_string = \"Hello, World\"\n",
    "my_string = 'Hello, World'\n",
    "```\n",
    "\n",
    "The two different versions are equivalent, but allow you to use the other version to indicate a quotation inside your string.\n",
    "\n",
    "```python\n",
    "my_string = \"Hello, 'World'\"\n",
    "```\n",
    "\n",
    "There is a multitude of things you can do with strings - but since our focus will be numerical computing I will ignore the vast majority of it - the tutorial is already quite long as it is.  \n",
    "For now the only thing we are going to do with strings is to include additional information in them.  \n",
    "We will do that using string interpolation - a scary word, but a simple concept.  \n",
    "If you prepend your strings with an `f`, you can then introduce any valid expression into that string by enclosing the expression into braces.  \n",
    "\n",
    "```python\n",
    "f\"Some text {any_valid_expression} some more text\"\n",
    "```\n",
    "\n",
    "While the normal interpolation works most of the time, you might want to format your input a bit more.  \n",
    "The syntax for this is `expression:format`.  \n",
    "The format specifier will very by data type, below are a few common examples.  "
   ]
  },
  {
   "cell_type": "code",
   "execution_count": 25,
   "metadata": {},
   "outputs": [
    {
     "name": "stdout",
     "output_type": "stream",
     "text": [
      "Some stuff before.     Hello, World    . Some stuff afterwards.\n",
      "Some stuff before. Hello, World        . Some stuff afterwards.\n",
      "Some stuff before.         Hello, World. Some stuff afterwards.\n"
     ]
    }
   ],
   "source": [
    "my_new_content = \"Hello, World\"\n",
    "\n",
    "# Pad with spaces\n",
    "print(f\"Some stuff before. {my_new_content:^20}. Some stuff afterwards.\")\n",
    "print(f\"Some stuff before. {my_new_content:<20}. Some stuff afterwards.\")\n",
    "print(f\"Some stuff before. {my_new_content:>20}. Some stuff afterwards.\")"
   ]
  },
  {
   "cell_type": "code",
   "execution_count": 26,
   "metadata": {},
   "outputs": [
    {
     "name": "stdout",
     "output_type": "stream",
     "text": [
      "Some stuff before. Hello, . Some stuff afterwards.\n"
     ]
    }
   ],
   "source": [
    "# Truncate\n",
    "print(f\"Some stuff before. {my_new_content:.7}. Some stuff afterwards.\")"
   ]
  },
  {
   "cell_type": "code",
   "execution_count": 27,
   "metadata": {},
   "outputs": [
    {
     "name": "stdout",
     "output_type": "stream",
     "text": [
      "Some stuff before.   Hello   . Some stuff afterwards.\n"
     ]
    }
   ],
   "source": [
    "# Truncate and pad\n",
    "print(f\"Some stuff before. {my_new_content:^10.5}. Some stuff afterwards.\")"
   ]
  },
  {
   "cell_type": "code",
   "execution_count": 28,
   "metadata": {},
   "outputs": [
    {
     "name": "stdout",
     "output_type": "stream",
     "text": [
      "Leading zeros: 0001\n",
      "Leading sign: +1\n",
      "Leading sign: -1\n",
      "Leading sign or zero:  1\n",
      "Leading sign or zero: -1\n",
      "Space padding:    1\n"
     ]
    }
   ],
   "source": [
    "# Ints\n",
    "\n",
    "value = 1\n",
    "print(f\"Leading zeros: {value:04d}\")\n",
    "\n",
    "print(f\"Leading sign: {1:+d}\")\n",
    "print(f\"Leading sign: {-1:+d}\")\n",
    "\n",
    "print(f\"Leading sign or zero: {1: d}\")\n",
    "print(f\"Leading sign or zero: {-1: d}\")\n",
    "\n",
    "\n",
    "print(f\"Space padding: {value:4d}\")"
   ]
  },
  {
   "cell_type": "code",
   "execution_count": 29,
   "metadata": {},
   "outputs": [
    {
     "name": "stdout",
     "output_type": "stream",
     "text": [
      "Decimal notation:    0.12\n",
      "Scientific notation: 1.23e-01\n",
      "Percentage notation: 12.35%\n"
     ]
    }
   ],
   "source": [
    "# Floats\n",
    "\n",
    "value = 0.12345\n",
    "print(f\"Decimal notation:    {value:.2f}\")\n",
    "print(f\"Scientific notation: {value:.2e}\")\n",
    "print(f\"Percentage notation: {value:.2%}\")"
   ]
  },
  {
   "cell_type": "code",
   "execution_count": 32,
   "metadata": {},
   "outputs": [
    {
     "name": "stdout",
     "output_type": "stream",
     "text": [
      "The value of my_int is 5\n",
      "The value of float is 0.051, which you can also express as 5.1%\n"
     ]
    }
   ],
   "source": [
    "my_int = 5\n",
    "my_float = 0.0512\n",
    "\n",
    "print(f\"The value of my_int is {my_int}\")\n",
    "print(\n",
    "    f\"The value of float is {my_float:.3f}, which you can also express as {my_float:.1%}\"\n",
    ")"
   ]
  },
  {
   "cell_type": "markdown",
   "metadata": {},
   "source": [
    "### Exercise: clock face revisited\n",
    "\n",
    "Write a function `clock_face_str` that takes the inputs 0-23 for hour and 0-59 for minute respectively (you don't have to check that) and returns the time in 12 hour format, including the am / pm part."
   ]
  },
  {
   "cell_type": "code",
   "execution_count": null,
   "metadata": {},
   "outputs": [],
   "source": [
    "def clock_face_str(hour, minute):\n",
    "    ...\n",
    "\n",
    "\n",
    "assert clock_face_str(0, 0) == \"12:00 am\"\n",
    "assert clock_face_str(6, 0) == \"06:00 am\"\n",
    "assert clock_face_str(12, 00) == \"12:00 pm\"\n",
    "assert clock_face_str(18, 00) == \"06:00 pm\""
   ]
  },
  {
   "cell_type": "code",
   "execution_count": null,
   "metadata": {},
   "outputs": [],
   "source": []
  },
  {
   "cell_type": "code",
   "execution_count": null,
   "metadata": {},
   "outputs": [],
   "source": []
  },
  {
   "cell_type": "code",
   "execution_count": null,
   "metadata": {},
   "outputs": [],
   "source": []
  },
  {
   "cell_type": "markdown",
   "metadata": {},
   "source": [
    "## Dictionaries\n",
    "\n",
    "| Methods                                             | Description                                                               | Operators |\n",
    "| ---                                                 | ---                                                                       | ---       |\n",
    "| `pop(key) -> value`                                 | Remove `key` from dictionary and return `value`                           |           |\n",
    "| `popitem() -> (key, value)`                         | Remove last added `key` and return both `key` and `value`                 |           |\n",
    "| `get(key, default=None) -> value \\| default`         | Return value of key *or* default value. Very useful.                     | `d[key]`¹ |\n",
    "| `setdefault(key, default=None) -> value \\| default`  | Adds `default` value for `key` if it's not in the dict. Very useful.     |           |\n",
    "| `update(collection)`                                | Add all elements from another collection                                  | `d1 \\| d2` |\n",
    "\n",
    "¹ While `get` returns `None` (or whatevery default value you set) when the `key` is not in the `dict`, `[key]` raises a `KeyError`. "
   ]
  },
  {
   "cell_type": "markdown",
   "metadata": {},
   "source": [
    "## Exercise:\n",
    "1. Ask three participants around you for their name and favorite animal and save them as a dictionary.\n",
    "2. Create a second dictionary that saves you with your own favorite animal as well as \"Freddie Mercury\" who likes cats.\n",
    "3. Update the first dictionary with the second one.\n",
    "4. Get the favorite animal of Freddie from that updated dictionary.\n",
    "5. Delete Freddy Mercury again since he couldn't make it here.\n",
    "6. Use the `setdefault` function to add \"Tobias\" and his favorite animal: seals\n",
    "7. (optional) Write a function that takes a dictionary and a name and returns `<name> likes <animal>` if they are in the dictionary and `<name> is not in the dictionary` if not."
   ]
  },
  {
   "cell_type": "code",
   "execution_count": null,
   "metadata": {},
   "outputs": [],
   "source": []
  },
  {
   "cell_type": "code",
   "execution_count": null,
   "metadata": {},
   "outputs": [],
   "source": []
  },
  {
   "cell_type": "markdown",
   "metadata": {},
   "source": [
    "## Exercise\n",
    "\n",
    "Write a function `combine_two_dictionaries` that combines two dictionaries, replacing values of the first dictionary with the ones in the second dictionary if applicable."
   ]
  },
  {
   "cell_type": "code",
   "execution_count": 59,
   "metadata": {},
   "outputs": [
    {
     "ename": "AssertionError",
     "evalue": "",
     "output_type": "error",
     "traceback": [
      "\u001b[1;31m---------------------------------------------------------------------------\u001b[0m",
      "\u001b[1;31mAssertionError\u001b[0m                            Traceback (most recent call last)",
      "\u001b[1;32m~\\AppData\\Local\\Temp/ipykernel_3384/1579040810.py\u001b[0m in \u001b[0;36m<module>\u001b[1;34m\u001b[0m\n\u001b[0;32m      3\u001b[0m \u001b[1;33m\u001b[0m\u001b[0m\n\u001b[0;32m      4\u001b[0m \u001b[1;33m\u001b[0m\u001b[0m\n\u001b[1;32m----> 5\u001b[1;33m \u001b[1;32massert\u001b[0m \u001b[0mcombine_two_dictionaries\u001b[0m\u001b[1;33m(\u001b[0m\u001b[1;33m{\u001b[0m\u001b[1;34m\"a\"\u001b[0m\u001b[1;33m:\u001b[0m \u001b[1;36m1\u001b[0m\u001b[1;33m,\u001b[0m \u001b[1;34m\"b\"\u001b[0m\u001b[1;33m:\u001b[0m \u001b[1;36m2\u001b[0m\u001b[1;33m}\u001b[0m\u001b[1;33m,\u001b[0m \u001b[1;33m{\u001b[0m\u001b[1;34m\"b\"\u001b[0m\u001b[1;33m:\u001b[0m \u001b[1;36m3\u001b[0m\u001b[1;33m,\u001b[0m \u001b[1;34m\"c\"\u001b[0m\u001b[1;33m:\u001b[0m \u001b[1;36m4\u001b[0m\u001b[1;33m}\u001b[0m\u001b[1;33m)\u001b[0m \u001b[1;33m==\u001b[0m \u001b[1;33m{\u001b[0m\u001b[1;34m\"a\"\u001b[0m\u001b[1;33m:\u001b[0m \u001b[1;36m1\u001b[0m\u001b[1;33m,\u001b[0m \u001b[1;34m\"b\"\u001b[0m\u001b[1;33m:\u001b[0m \u001b[1;36m3\u001b[0m\u001b[1;33m,\u001b[0m \u001b[1;34m\"c\"\u001b[0m\u001b[1;33m:\u001b[0m \u001b[1;36m4\u001b[0m\u001b[1;33m}\u001b[0m\u001b[1;33m\u001b[0m\u001b[1;33m\u001b[0m\u001b[0m\n\u001b[0m",
      "\u001b[1;31mAssertionError\u001b[0m: "
     ]
    }
   ],
   "source": [
    "def combine_two_dictionaries(d1, d2):\n",
    "    ...\n",
    "\n",
    "\n",
    "assert combine_two_dictionaries({\"a\": 1, \"b\": 2}, {\"b\": 3, \"c\": 4}) == {\"a\": 1, \"b\": 3, \"c\": 4}"
   ]
  },
  {
   "cell_type": "code",
   "execution_count": null,
   "metadata": {},
   "outputs": [],
   "source": []
  },
  {
   "cell_type": "code",
   "execution_count": null,
   "metadata": {},
   "outputs": [],
   "source": []
  },
  {
   "cell_type": "code",
   "execution_count": null,
   "metadata": {},
   "outputs": [],
   "source": []
  },
  {
   "cell_type": "code",
   "execution_count": null,
   "metadata": {},
   "outputs": [],
   "source": []
  },
  {
   "cell_type": "markdown",
   "metadata": {},
   "source": [
    "## Common operations: len\n",
    "\n",
    "All thes containers shown so far are *sized*, so you can get the number of elements in them (the containers *length*) using the `len` function."
   ]
  },
  {
   "cell_type": "code",
   "execution_count": 60,
   "metadata": {},
   "outputs": [
    {
     "name": "stdout",
     "output_type": "stream",
     "text": [
      "3\n",
      "3\n",
      "3\n",
      "3\n"
     ]
    }
   ],
   "source": [
    "my_tuple = (1, 2, 3)\n",
    "my_list = [1, 2, 3]\n",
    "my_string = \"abc\"\n",
    "my_dict = {\"a\": 1, \"b\": 2, \"c\": 3}\n",
    "\n",
    "print(len(my_tuple))\n",
    "print(len(my_list))\n",
    "print(len(my_string))\n",
    "print(len(my_dict))"
   ]
  },
  {
   "cell_type": "markdown",
   "metadata": {},
   "source": [
    "### Exercise: equal length\n",
    "\n",
    "Write a function `length_is_equal(l1, l2) -> bool` that checks whether the lengths of two lists match.  \n"
   ]
  },
  {
   "cell_type": "code",
   "execution_count": null,
   "metadata": {},
   "outputs": [],
   "source": [
    "def length_is_equal(l1, l2):\n",
    "    ...\n",
    "\n",
    "\n",
    "assert length_is_equal([1, 2, 3], [1, 2, 3])\n",
    "assert not length_is_equal([1, 2], [1, 2, 3])\n",
    "assert not length_is_equal([1, 2, 3], [1, 2])"
   ]
  },
  {
   "cell_type": "code",
   "execution_count": null,
   "metadata": {},
   "outputs": [],
   "source": []
  },
  {
   "cell_type": "code",
   "execution_count": null,
   "metadata": {},
   "outputs": [],
   "source": []
  },
  {
   "cell_type": "code",
   "execution_count": null,
   "metadata": {},
   "outputs": [],
   "source": []
  },
  {
   "cell_type": "markdown",
   "metadata": {},
   "source": [
    "## Common operations: in\n",
    "\n",
    "For all the shown container you can check whether and element is in it using the `in` operator.  \n",
    "\n",
    "```python\n",
    "print(\"W\" in \"Hello, World\")\n",
    "print(2 in (1, 2, 3))\n",
    "print(2 in [1, 2, 3])\n",
    "print(\"b\" in {\"a\": 1, \"b\": 2, \"c\": 3})\n",
    "```\n",
    "\n",
    "Even though Python usually isn't used for performance-critical code, a quick side note of the performance of this operation.  \n",
    "For tuples, lists and strings this operation has a complexity of $\\mathcal{O}(n)$, so in the worst-case you have to visit every single element in the container.  \n",
    "On contrast to that, sets and dictionaries have $\\mathcal{O}(1)$ complexity for this operation, which means that the size of the container does not matter for performance.  \n",
    "For that reason, whenever you need to search for many elements in a container that is large, go for sets or dictionaries.  \n",
    "For small problems it doesn't really matter though.  \n",
    "\n",
    "We won't go into the details of *why* that is the case. If you are interested, search what a *hash function* is and then how *hash maps* or *hash sets* are implemented.   \n"
   ]
  },
  {
   "cell_type": "markdown",
   "metadata": {},
   "source": [
    "### Exercise: is-in string\n",
    "\n",
    "Write a function that takes a container and an element and returns the string indicating whether the element is in the container"
   ]
  },
  {
   "cell_type": "code",
   "execution_count": null,
   "metadata": {},
   "outputs": [],
   "source": [
    "def is_in(container, element):\n",
    "    ...\n",
    "\n",
    "assert is_in([1, 2, 3], 1) == '1 is in the container'\n",
    "assert is_in([1, 2, 3], 4) == '4 is not in the container'"
   ]
  },
  {
   "cell_type": "code",
   "execution_count": null,
   "metadata": {},
   "outputs": [],
   "source": []
  },
  {
   "cell_type": "code",
   "execution_count": null,
   "metadata": {},
   "outputs": [],
   "source": []
  },
  {
   "cell_type": "code",
   "execution_count": null,
   "metadata": {},
   "outputs": [],
   "source": []
  },
  {
   "cell_type": "markdown",
   "metadata": {},
   "source": [
    "## Common operations: sum, min, & max\n",
    "\n",
    "If the items in the containers are numeric, you can calculate the sum, minimal value and maximal value with `sum`, `min` and `max` respectively."
   ]
  },
  {
   "cell_type": "code",
   "execution_count": null,
   "metadata": {},
   "outputs": [],
   "source": [
    "my_tuple = (1, 2, 3)\n",
    "my_list = (1, 2, 3)\n",
    "\n",
    "print(sum(my_tuple), min(my_tuple), max(my_tuple))\n",
    "print(sum(my_list), min(my_list), max(my_list))\n"
   ]
  },
  {
   "cell_type": "markdown",
   "metadata": {},
   "source": [
    "### Exercise: equal sum\n",
    "\n",
    "Write a function `sum_is_equal(l1, l2)` that checks whether the sum of all the elements of two lists match."
   ]
  },
  {
   "cell_type": "code",
   "execution_count": null,
   "metadata": {},
   "outputs": [],
   "source": [
    "def sum_is_equal(t1, t2):\n",
    "    ...\n",
    "\n",
    "\n",
    "assert sum_is_equal([1, 2, 3], [1, 2, 3])\n",
    "assert sum_is_equal([1, 2, 3], [1, 5])\n",
    "assert not sum_is_equal([1, 2, 3], [1, 2, 4])\n"
   ]
  },
  {
   "cell_type": "markdown",
   "metadata": {},
   "source": [
    "### Exercise: min equals max\n",
    "\n",
    "Write a function `min_equals_max(t1, t2)` that checks whether the minimal element of one list in the maximal element of another list.  \n",
    "\n",
    "Hint: what do the tests below tell you about whether the *order* of the lists matter?"
   ]
  },
  {
   "cell_type": "code",
   "execution_count": null,
   "metadata": {},
   "outputs": [],
   "source": [
    "def min_equals_max(t1, t2):\n",
    "    ...\n",
    "\n",
    "\n",
    "assert min_equals_max([1, 2], [0, 1])\n",
    "assert min_equals_max([0, 1], [1, 2])\n",
    "assert not min_equals_max([5, 4], [3, 2, 1])\n"
   ]
  },
  {
   "cell_type": "code",
   "execution_count": null,
   "metadata": {},
   "outputs": [],
   "source": []
  },
  {
   "cell_type": "code",
   "execution_count": null,
   "metadata": {},
   "outputs": [],
   "source": []
  },
  {
   "cell_type": "code",
   "execution_count": null,
   "metadata": {},
   "outputs": [],
   "source": []
  },
  {
   "cell_type": "markdown",
   "metadata": {},
   "source": [
    "## Indexing\n",
    "\n",
    "You can access elements of all shown containers except sets (for which this operation doesn't make sense, they are *not sorted*) using the bracket syntax `[index]`.  \n",
    "Elements from tuples and lists are accesible by their *position*.  \n",
    "The first element has index 0, which can be confusing in the beginning.  \n",
    "One explanation for this is that the index shows you the **distance from the start** of the container.  \n",
    "So imagine the variable you assigned the container to *points* to a position in computer memory and since a container in memory is nothing more than its contents, the position at the same time is the first element.\n",
    "If you want to access the list from the *last* element, you can do this with a negative index, e.g. `-1`.\n",
    "\n",
    "If you have a list containing the elements `0, 2, 4, 6, 8`, the image below shows you the respective indices.\n",
    "\n",
    "<img src=\"img/indexing.png\">\n",
    "\n",
    "\n",
    "```python\n",
    "print(my_string[0])     # H\n",
    "print(my_tuple[0])      # 1\n",
    "print(my_list[0])       # 1\n",
    "```\n",
    "\n",
    "Dictionaries on the other hand map *keys* to *values*, so you access them using the respective *keys*.\n",
    "\n",
    "```python\n",
    "print(my_dict[\"a\"])     # 1\n",
    "```"
   ]
  },
  {
   "cell_type": "markdown",
   "metadata": {},
   "source": [
    "### Exercise: indexing\n",
    "\n",
    "Write a function `first_and_last(container)` that returns the first and last element of a list.  \n",
    "You may assume that the list has at least two entries.  "
   ]
  },
  {
   "cell_type": "code",
   "execution_count": null,
   "metadata": {},
   "outputs": [],
   "source": [
    "def first_and_last(container):\n",
    "    return container[0], container[-1]\n",
    "\n",
    "\n",
    "assert first_and_last([1, 2]) == (1, 2)\n",
    "assert first_and_last([1, 2, 3]) == (1, 3)\n",
    "assert first_and_last([1, 2, 3, 4]) == (1, 4)\n"
   ]
  },
  {
   "cell_type": "code",
   "execution_count": null,
   "metadata": {},
   "outputs": [],
   "source": []
  },
  {
   "cell_type": "code",
   "execution_count": null,
   "metadata": {},
   "outputs": [],
   "source": []
  },
  {
   "cell_type": "code",
   "execution_count": null,
   "metadata": {},
   "outputs": [],
   "source": []
  },
  {
   "cell_type": "markdown",
   "metadata": {},
   "source": [
    "## Slicing\n",
    "\n",
    "If we are interested in more than one value, we can take a **slice** out of strings, tuples and lists.  \n",
    "The syntax here is `[start:stop:step_size]`.  \n",
    "In all cases *start* is included,  while *stop* is excluded, or `[start, stop)` in mathematical notation.  \n",
    "\n",
    "```python\n",
    "print(\"Hello, World\"[0:2:1])  # prints He\n",
    "print((1, 2, 3)[0:2:1])   # prints (1, 2)\n",
    "print([1, 2, 3][0:2:1])    # prints [1, 2]\n",
    "```\n",
    "\n",
    "Whenever one of those arguments is its default value, it can be left out.  \n",
    "The default values are:\n",
    "\n",
    "- **start**: `0`\n",
    "- **stop**: `len(container)` \n",
    "- **step**:`1`  \n",
    "\n",
    "So all of the following are valid slices\n",
    "\n",
    "```python\n",
    "container[:]             # all values\n",
    "container[::]            # all values\n",
    "container[::2]           # every second value\n",
    "container[1::2]          # every second value starting from one\n",
    "container[1:6:2]         # values 1, 3, 6\n",
    "```\n",
    "\n",
    "You can also use *negative indices* if you want to count from the back of the container\n",
    "\n",
    "```python\n",
    "container[1:-1]          # from second to second last index\n",
    "```\n",
    "\n",
    "And a *negative step size* if you want to reverse the container\n",
    "\n",
    "```python\n",
    "container[::-1]          # reversed\n",
    "```\n"
   ]
  },
  {
   "cell_type": "markdown",
   "metadata": {},
   "source": [
    "### Exercise: slicing\n",
    "\n",
    "Take the string `\"Hello, World\"` and then \n",
    "- print first just the `Hello` and then just the `World` part.\n",
    "- print every second character\n",
    "- reverse the string\n",
    " "
   ]
  },
  {
   "cell_type": "code",
   "execution_count": 61,
   "metadata": {},
   "outputs": [
    {
     "name": "stdout",
     "output_type": "stream",
     "text": [
      "Hello\n",
      "World\n",
      "Hlo ol\n",
      "dlroW ,olleH\n"
     ]
    }
   ],
   "source": [
    "my_string = \"Hello, World\"\n",
    "\n",
    "print(my_string[:5])\n",
    "print(my_string[7:])\n",
    "print(my_string[::2])\n",
    "print(my_string[::-1])\n"
   ]
  },
  {
   "cell_type": "code",
   "execution_count": null,
   "metadata": {},
   "outputs": [],
   "source": []
  },
  {
   "cell_type": "code",
   "execution_count": null,
   "metadata": {},
   "outputs": [],
   "source": []
  },
  {
   "cell_type": "code",
   "execution_count": null,
   "metadata": {},
   "outputs": [],
   "source": []
  },
  {
   "cell_type": "markdown",
   "metadata": {},
   "source": [
    "## Changing a value inside containers\n",
    "\n",
    "You can change a specific value inside a `dict` and `list` using the normal assignment syntax but with the indexed value as the target, e.g.  \n",
    "\n",
    "```python\n",
    "l = [1, 2, 3]  # [1, 2, 3]\n",
    "l[1] = 4       # [1, 4, 3]\n",
    "```\n",
    "\n",
    "However, you cannot change elements inside of a `tuple` or `string`, thus those containers are *immutable*.  \n",
    "One reason behind that is that both these containers are frequent keys of a `dict`.  \n",
    "Take a look at the following snippet: \n",
    "\n",
    "```python\n",
    "key = \"my_key\"\n",
    "my_dict = {key: 1}\n",
    "my_dict[key]         # 1\n",
    "```\n",
    "\n",
    "If it were allowed to alter the contents of the variable `key` here, changing it would lead to a `KeyError` when you are trying to access the dict again.  \n",
    "\n",
    "```python\n",
    "key[1] = \"z\"\n",
    "my_dict[key]         # KeyError\n",
    "```\n",
    "Since that behaviour would be rather confusing, Python strings in general are immutable.\n",
    "\n"
   ]
  },
  {
   "cell_type": "markdown",
   "metadata": {},
   "source": [
    "### Exercise: swap first value\n",
    "\n",
    "Write a function `swap_first_value(l1, l2)` that swaps the first value of two lists and then returns both lists.\n"
   ]
  },
  {
   "cell_type": "code",
   "execution_count": null,
   "metadata": {},
   "outputs": [],
   "source": [
    "def swap_first_value(l1, l2):\n",
    "    ...\n",
    "\n",
    "\n",
    "assert swap_first_value([1, 2, 3], [4, 5, 6]) == ([4, 2, 3], [1, 5, 6])\n"
   ]
  },
  {
   "cell_type": "code",
   "execution_count": null,
   "metadata": {},
   "outputs": [],
   "source": []
  },
  {
   "cell_type": "code",
   "execution_count": null,
   "metadata": {},
   "outputs": [],
   "source": []
  },
  {
   "cell_type": "code",
   "execution_count": null,
   "metadata": {},
   "outputs": [],
   "source": []
  },
  {
   "cell_type": "markdown",
   "metadata": {},
   "source": [
    "## Detour: for loop\n",
    "\n",
    "Very frequently you want an operation to be performed multiple times - often over an entire container.  \n",
    "If your container is iterable (as all the containers shown above are), you can use the `for` loop.  \n",
    "This will iterate over every single element in the container.  \n",
    "\n",
    "```python\n",
    "for name in container:\n",
    "    do_something(name)\n",
    "```\n",
    "\n",
    "Dictionaries are a bit of a special case here, because they have two containers inside - their keys and their values.  \n",
    "You can thus iterate over only the keys, only the values, or a tuple of both."
   ]
  },
  {
   "cell_type": "code",
   "execution_count": null,
   "metadata": {},
   "outputs": [],
   "source": [
    "my_dict = {\"a\": 1, \"b\": 2, \"c\": 3}\n"
   ]
  },
  {
   "cell_type": "code",
   "execution_count": null,
   "metadata": {},
   "outputs": [],
   "source": [
    "for key in my_dict.keys():\n",
    "    print(key)\n"
   ]
  },
  {
   "cell_type": "code",
   "execution_count": null,
   "metadata": {},
   "outputs": [],
   "source": [
    "for value in my_dict.values():\n",
    "    print(value)\n"
   ]
  },
  {
   "cell_type": "code",
   "execution_count": null,
   "metadata": {},
   "outputs": [],
   "source": [
    "for pair in my_dict.items():\n",
    "    print(pair)\n"
   ]
  },
  {
   "cell_type": "markdown",
   "metadata": {},
   "source": [
    "There are two convenient shortcuts here.  \n",
    "First, as it's the more common operation to iterate over the keys, you can remove `.keys()` to implicitly iterate over them."
   ]
  },
  {
   "cell_type": "code",
   "execution_count": null,
   "metadata": {},
   "outputs": [],
   "source": [
    "for key in my_dict:\n",
    "    print(key)\n"
   ]
  },
  {
   "cell_type": "markdown",
   "metadata": {},
   "source": [
    "Second, you often want to access the entries of the pair seperately.  \n",
    "For this, you can **unpack** them (an any other tuple for that matter) via the `entry1, entry2` syntax.  \n",
    "Note that the amount of variables needs to match the number of elements in the tuple, otherwise this operation will throw a `ValueError`.  "
   ]
  },
  {
   "cell_type": "code",
   "execution_count": null,
   "metadata": {},
   "outputs": [],
   "source": [
    "for key, value in my_dict.items():\n",
    "    print(key, value)\n"
   ]
  },
  {
   "cell_type": "markdown",
   "metadata": {},
   "source": [
    "### Exercise: GC count\n",
    "\n",
    "Write a function that takes string of DNA (which consists of the bases `A`, `C`, `G` and `T`) and returns how high the percentage of the `G` and `C` bases together is.\n",
    "\n",
    "Function signature: `gc_count(dna)`"
   ]
  },
  {
   "cell_type": "code",
   "execution_count": null,
   "metadata": {},
   "outputs": [],
   "source": [
    "def gc_count(dna):\n",
    "    ...\n",
    "\n",
    "\n",
    "assert gc_count(\"GGGCCC\") == 1.0\n",
    "assert gc_count(\"GGGTTTCCCAAA\") == 0.5\n",
    "assert gc_count(\"TTTAAA\") == 0.0\n"
   ]
  },
  {
   "cell_type": "code",
   "execution_count": null,
   "metadata": {},
   "outputs": [],
   "source": []
  },
  {
   "cell_type": "code",
   "execution_count": null,
   "metadata": {},
   "outputs": [],
   "source": []
  },
  {
   "cell_type": "code",
   "execution_count": null,
   "metadata": {},
   "outputs": [],
   "source": []
  },
  {
   "cell_type": "markdown",
   "metadata": {},
   "source": [
    "## Detour: range\n",
    "\n",
    "There are two very useful iterators that will generate a *sequence* of numbers on the fly: `range` and `enumerate`.  \n",
    "\n",
    "`range` takes one to three arguments: `(stop)`, `(start, stop)`, `(start, stop, step)`.  \n",
    "Just like with the slicing before, the range  is `[start, stop)` and the default arguments for `start` and `step` are 0 and 1 respectively.  \n",
    "So all the following are valid.\n",
    "\n",
    "```python\n",
    "range(5)        # 0, 1, 2, 3, 4, 5\n",
    "range(1, 5)     #    1, 2,\n",
    "range(1, 5, 2)  #    1,    3,\n",
    "```\n",
    "\n",
    "Naturally, you can iterate over a range.\n",
    "\n"
   ]
  },
  {
   "cell_type": "code",
   "execution_count": null,
   "metadata": {},
   "outputs": [],
   "source": [
    "for i in range(3):\n",
    "    print(i)\n"
   ]
  },
  {
   "cell_type": "markdown",
   "metadata": {},
   "source": [
    "\n",
    "The difference between a *sequence* and a *container* is that the sequence doesn't hold all of its values.  \n",
    "If you do need all those values, you can convert a sequence into a container like this\n",
    "\n",
    "```python\n",
    "list(range(0, 10))\n",
    "```"
   ]
  },
  {
   "cell_type": "markdown",
   "metadata": {},
   "source": [
    "### Exercise: sequence of numbers divisible by two\n",
    "\n",
    "Write a function that returns all numbers divisible by two in a range of `start` to `end`.  \n",
    "In the case where `start` is **not** divisble by two itself, start from the next largest number divisible by two.  \n",
    "\n",
    "Function signature: `range_of_divisible_by_two(start, stop)`\n",
    "\n",
    "**Bonus task**: Do the same thing but also vary the number you want the sequence to be divisible by."
   ]
  },
  {
   "cell_type": "code",
   "execution_count": null,
   "metadata": {},
   "outputs": [],
   "source": [
    "def range_of_divisible_by_two(start, stop):\n",
    "    ...\n",
    "\n",
    "\n",
    "assert range_of_divisible_by_two(2, 7) == [2, 4, 6]\n",
    "assert range_of_divisible_by_two(2, 8) == [2, 4, 6]\n",
    "assert range_of_divisible_by_two(2, 9) == [2, 4, 6, 8]\n",
    "assert range_of_divisible_by_two(3, 7) == [4, 6]\n",
    "assert range_of_divisible_by_two(3, 8) == [4, 6]\n",
    "assert range_of_divisible_by_two(3, 9) == [4, 6, 8]\n"
   ]
  },
  {
   "cell_type": "code",
   "execution_count": null,
   "metadata": {},
   "outputs": [],
   "source": [
    "def range_of_divisible_by(start, stop, divisor):\n",
    "    ...\n",
    "\n",
    "\n",
    "assert range_of_divisible_by(11, 21, 2) == [12, 14, 16, 18, 20]\n",
    "assert range_of_divisible_by(11, 21, 3) == [12, 15, 18]\n",
    "assert range_of_divisible_by(11, 21, 4) == [12, 16, 20]\n",
    "assert range_of_divisible_by(11, 21, 5) == [15, 20]\n",
    "assert range_of_divisible_by(11, 21, 6) == [12, 18]\n",
    "assert range_of_divisible_by(11, 21, 7) == [14]\n"
   ]
  },
  {
   "cell_type": "code",
   "execution_count": null,
   "metadata": {},
   "outputs": [],
   "source": []
  },
  {
   "cell_type": "code",
   "execution_count": null,
   "metadata": {},
   "outputs": [],
   "source": []
  },
  {
   "cell_type": "code",
   "execution_count": null,
   "metadata": {},
   "outputs": [],
   "source": []
  },
  {
   "cell_type": "markdown",
   "metadata": {},
   "source": [
    "## Detour: enumerate\n",
    "\n",
    "`enumerate` in contrast to `range` takes an iterable and returns the values of that iterable together with a running index.  \n",
    "Like with the dictionary example I'm unpacking the tuple here, but that's not necessary.  \n",
    "`enumerate` has an optional start keyword, so all the following are valid\n",
    "\n",
    "```python\n",
    "enumerate(iterable)           # index starts at zero\n",
    "enumerate(iterable, 1)        # implicit\n",
    "enumerate(iterable, start=1)  # explicit, preferred for readability\n",
    "```"
   ]
  },
  {
   "cell_type": "code",
   "execution_count": null,
   "metadata": {},
   "outputs": [],
   "source": [
    "for idx, value in enumerate([\"a\", \"b\", \"c\"]):\n",
    "    print(idx, value)\n"
   ]
  },
  {
   "cell_type": "markdown",
   "metadata": {},
   "source": [
    "### Exercise: any two equal\n",
    "\n",
    "Given a list of numbers and a number `k`, write a function that checks whether the sum of any two numbers from the list is equal to `k` or not."
   ]
  },
  {
   "cell_type": "code",
   "execution_count": null,
   "metadata": {},
   "outputs": [],
   "source": [
    "def any_two_equal_k(numbers, k):\n",
    "    ...\n",
    "\n",
    "\n",
    "assert any_two_equal_k([2, 3, 2], 4)\n",
    "assert any_two_equal_k([1, 2, 3, 4, 5], 3)\n",
    "assert any_two_equal_k([1, 2, 3, 4, 5], 5)\n",
    "assert any_two_equal_k([1, 2, 3, 4, 5], 9)\n",
    "assert not any_two_equal_k([1, 2, 3, 4, 5], 10)\n",
    "assert not any_two_equal_k([1, 2, 3, 4, 5], 2)\n"
   ]
  },
  {
   "cell_type": "code",
   "execution_count": null,
   "metadata": {},
   "outputs": [],
   "source": []
  },
  {
   "cell_type": "code",
   "execution_count": null,
   "metadata": {},
   "outputs": [],
   "source": []
  },
  {
   "cell_type": "code",
   "execution_count": null,
   "metadata": {},
   "outputs": [],
   "source": []
  },
  {
   "cell_type": "markdown",
   "metadata": {},
   "source": [
    "## Detour: break and continue\n",
    "\n",
    "Frequently, you don't want to iterate through an entire collection or sequence, but just until you reach a certain value.  \n",
    "This can be achieved with the `break` statement, which will stop the iteration once it's reached.  \n",
    "Similarly, the `continue` statement can be used to jump to the next iteration *without executing the remainder of the loop body*."
   ]
  },
  {
   "cell_type": "code",
   "execution_count": null,
   "metadata": {},
   "outputs": [],
   "source": [
    "for i in \"abcdefg\":\n",
    "    if i == \"a\":\n",
    "        continue\n",
    "    if i == \"d\":\n",
    "        break\n",
    "    print(i)"
   ]
  },
  {
   "cell_type": "markdown",
   "metadata": {},
   "source": [
    "### Exercise: values until sum is reached\n",
    "\n",
    "Utilising the `continue` and `break` statements, write a function `(vals, goal)`  \n",
    "that returns the first n-elements of vals in which all odd numbers sum or exceed a given goal value.\n",
    "\n"
   ]
  },
  {
   "cell_type": "code",
   "execution_count": null,
   "metadata": {},
   "outputs": [],
   "source": [
    "def values_until_sum_is_reached_excluding_even(vals, goal):\n",
    "    ...\n",
    "\n",
    "\n",
    "assert values_until_sum_is_reached_excluding_even([1, 2, 3, 4], 1) == [1]\n",
    "assert values_until_sum_is_reached_excluding_even([1, 2, 3, 4], 3) == [1, 2, 3]\n",
    "assert values_until_sum_is_reached_excluding_even([4, 3, 2, 1], 3) == [4, 3]\n",
    "assert values_until_sum_is_reached_excluding_even([4, 3, 2, 1], 2) == [4, 3]"
   ]
  },
  {
   "cell_type": "code",
   "execution_count": null,
   "metadata": {},
   "outputs": [],
   "source": []
  },
  {
   "cell_type": "code",
   "execution_count": null,
   "metadata": {},
   "outputs": [],
   "source": []
  },
  {
   "cell_type": "code",
   "execution_count": null,
   "metadata": {},
   "outputs": [],
   "source": []
  }
 ],
 "metadata": {
  "kernelspec": {
   "display_name": "Python 3 (ipykernel)",
   "language": "python",
   "name": "python3"
  },
  "language_info": {
   "codemirror_mode": {
    "name": "ipython",
    "version": 3
   },
   "file_extension": ".py",
   "mimetype": "text/x-python",
   "name": "python",
   "nbconvert_exporter": "python",
   "pygments_lexer": "ipython3",
   "version": "3.9.7"
  }
 },
 "nbformat": 4,
 "nbformat_minor": 2
}
